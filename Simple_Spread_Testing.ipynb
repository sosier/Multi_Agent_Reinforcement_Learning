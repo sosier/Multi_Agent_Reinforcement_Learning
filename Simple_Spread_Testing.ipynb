{
 "cells": [
  {
   "cell_type": "markdown",
   "metadata": {},
   "source": [
    "# Simple Spread Testing"
   ]
  },
  {
   "cell_type": "markdown",
   "metadata": {},
   "source": [
    "## Standard Simple Spread (Collaborative Only)"
   ]
  },
  {
   "cell_type": "markdown",
   "metadata": {},
   "source": [
    "Agent observations: `[self_vel, self_pos, landmark_rel_positions, other_agent_rel_positions, communication]`\n",
    " - `self_vel = (2, )`\n",
    " - `self_pos = (2, )`\n",
    " - `landmark_rel_positions = (2 * N, )`\n",
    " - `other_agent_rel_positions = (2 * (N - 1), )`\n",
    " - `communication = (2 * (N - 1), )`\n",
    "\n",
    "Agent action space: `[no_action, move_left, move_right, move_down, move_up] = (0-4)` "
   ]
  },
  {
   "cell_type": "code",
   "execution_count": 2,
   "metadata": {},
   "outputs": [],
   "source": [
    "from pettingzoo.mpe import simple_spread_v3"
   ]
  },
  {
   "cell_type": "code",
   "execution_count": 7,
   "metadata": {},
   "outputs": [
    {
     "data": {
      "text/plain": [
       "({'agent_0': array([ 0.        ,  0.        , -0.914505  ,  0.7369242 ,  1.2280984 ,\n",
       "         -0.31268778,  0.2608471 , -1.296406  ,  0.9618274 , -0.22345683,\n",
       "          1.8744236 , -0.32145205,  0.34718683, -0.3769984 ,  1.7224408 ,\n",
       "         -0.32635674,  1.257719  , -0.48978192,  0.79144037, -1.7273643 ,\n",
       "          0.0581587 , -0.7527819 ,  0.        ,  0.        ,  0.        ,\n",
       "          0.        ,  0.        ,  0.        ,  0.        ,  0.        ],\n",
       "        dtype=float32),\n",
       "  'agent_1': array([ 0.        ,  0.        ,  0.8079359 ,  0.4105674 , -0.49434245,\n",
       "          0.01366896, -1.4615937 , -0.9700493 , -0.7606135 ,  0.10289992,\n",
       "          0.15198275,  0.00490471, -1.375254  , -0.05064164, -1.7224408 ,\n",
       "          0.32635674, -0.46472183, -0.16342516, -0.93100053, -1.4010077 ,\n",
       "         -1.6642822 , -0.42642516,  0.        ,  0.        ,  0.        ,\n",
       "          0.        ,  0.        ,  0.        ,  0.        ,  0.        ],\n",
       "        dtype=float32),\n",
       "  'agent_2': array([ 0.        ,  0.        ,  0.34321406,  0.24714224, -0.0296206 ,\n",
       "          0.17709413, -0.99687195, -0.8066241 , -0.29589167,  0.2663251 ,\n",
       "          0.6167046 ,  0.16832988, -0.91053224,  0.11278353, -1.257719  ,\n",
       "          0.48978192,  0.46472183,  0.16342516, -0.4662787 , -1.2375824 ,\n",
       "         -1.1995604 , -0.263     ,  0.        ,  0.        ,  0.        ,\n",
       "          0.        ,  0.        ,  0.        ,  0.        ,  0.        ],\n",
       "        dtype=float32),\n",
       "  'agent_3': array([ 0.        ,  0.        , -0.12306464, -0.9904402 ,  0.43665808,\n",
       "          1.4146765 , -0.5305933 ,  0.4309583 ,  0.17038701,  1.5039076 ,\n",
       "          1.0829833 ,  1.4059123 , -0.4442535 ,  1.350366  , -0.79144037,\n",
       "          1.7273643 ,  0.93100053,  1.4010077 ,  0.4662787 ,  1.2375824 ,\n",
       "         -0.7332817 ,  0.97458243,  0.        ,  0.        ,  0.        ,\n",
       "          0.        ,  0.        ,  0.        ,  0.        ,  0.        ],\n",
       "        dtype=float32),\n",
       "  'agent_4': array([ 0.        ,  0.        , -0.8563463 , -0.01585775,  1.1699398 ,\n",
       "          0.44009414,  0.2026884 , -0.54362416,  0.9036687 ,  0.52932507,\n",
       "          1.816265  ,  0.43132988,  0.28902814,  0.37578353, -0.0581587 ,\n",
       "          0.7527819 ,  1.6642822 ,  0.42642516,  1.1995604 ,  0.263     ,\n",
       "          0.7332817 , -0.97458243,  0.        ,  0.        ,  0.        ,\n",
       "          0.        ,  0.        ,  0.        ,  0.        ,  0.        ],\n",
       "        dtype=float32)},\n",
       " {'agent_0': {}, 'agent_1': {}, 'agent_2': {}, 'agent_3': {}, 'agent_4': {}})"
      ]
     },
     "execution_count": 7,
     "metadata": {},
     "output_type": "execute_result"
    }
   ],
   "source": [
    "env = simple_spread_v3.parallel_env(N=5)\n",
    "observations, infos = env.reset()\n",
    "observations, infos\n"
   ]
  },
  {
   "cell_type": "code",
   "execution_count": 8,
   "metadata": {},
   "outputs": [
    {
     "data": {
      "text/plain": [
       "5"
      ]
     },
     "execution_count": 8,
     "metadata": {},
     "output_type": "execute_result"
    },
    {
     "ename": "",
     "evalue": "",
     "output_type": "error",
     "traceback": [
      "\u001b[1;31mThe Kernel crashed while executing code in the current cell or a previous cell. \n",
      "\u001b[1;31mPlease review the code in the cell(s) to identify a possible cause of the failure. \n",
      "\u001b[1;31mClick <a href='https://aka.ms/vscodeJupyterKernelCrash'>here</a> for more info. \n",
      "\u001b[1;31mView Jupyter <a href='command:jupyter.viewOutput'>log</a> for further details."
     ]
    }
   ],
   "source": [
    "env.num_agents"
   ]
  },
  {
   "cell_type": "code",
   "execution_count": 5,
   "metadata": {},
   "outputs": [
    {
     "data": {
      "text/plain": [
       "array([ 0.        ,  0.        ,  0.20602952,  0.2017099 ,  0.10246428,\n",
       "       -0.95494974,  0.29350424,  0.6085242 , -0.09458406,  0.5626049 ,\n",
       "        0.11323519, -0.16783085,  0.15982419,  0.0426769 ,  0.2274976 ,\n",
       "       -0.56936574,  0.53829366, -0.9099832 ,  0.        ,  0.        ,\n",
       "        0.        ,  0.        ,  0.        ,  0.        ,  0.        ,\n",
       "        0.        ,  0.3658537 ,  0.24438679, -0.05735991, -0.99762666,\n",
       "        0.13368003,  0.56584734, -0.25440824,  0.519928  , -0.04658899,\n",
       "       -0.21050777, -0.15982419, -0.0426769 ,  0.06767341, -0.61204267,\n",
       "        0.3784695 , -0.9526601 ,  0.        ,  0.        ,  0.        ,\n",
       "        0.        ,  0.        ,  0.        ,  0.        ,  0.        ,\n",
       "        0.4335271 , -0.36765587, -0.12503332, -0.38558397,  0.06600662,\n",
       "        1.17789   , -0.32208166,  1.1319706 , -0.1142624 ,  0.40153491,\n",
       "       -0.2274976 ,  0.56936574, -0.06767341,  0.61204267,  0.31079608,\n",
       "       -0.34061742,  0.        ,  0.        ,  0.        ,  0.        ,\n",
       "        0.        ,  0.        ,  0.        ,  0.        ,  0.7443232 ,\n",
       "       -0.7082733 , -0.4358294 , -0.04496654, -0.24478945,  1.5185074 ,\n",
       "       -0.63287777,  1.4725881 , -0.42505848,  0.74215233, -0.53829366,\n",
       "        0.9099832 , -0.3784695 ,  0.9526601 , -0.31079608,  0.34061742,\n",
       "        0.        ,  0.        ,  0.        ,  0.        ,  0.        ,\n",
       "        0.        ], dtype=float32)"
      ]
     },
     "execution_count": 5,
     "metadata": {},
     "output_type": "execute_result"
    }
   ],
   "source": [
    "env.state()"
   ]
  },
  {
   "cell_type": "code",
   "execution_count": 6,
   "metadata": {},
   "outputs": [
    {
     "name": "stdout",
     "output_type": "stream",
     "text": [
      "(24,)\n"
     ]
    },
    {
     "data": {
      "text/plain": [
       "array([ 0.        ,  0.        ,  0.20602952,  0.2017099 ,  0.10246428,\n",
       "       -0.95494974,  0.29350424,  0.6085242 , -0.09458406,  0.5626049 ,\n",
       "        0.11323519, -0.16783085,  0.15982419,  0.0426769 ,  0.2274976 ,\n",
       "       -0.56936574,  0.53829366, -0.9099832 ,  0.        ,  0.        ,\n",
       "        0.        ,  0.        ,  0.        ,  0.        ], dtype=float32)"
      ]
     },
     "execution_count": 6,
     "metadata": {},
     "output_type": "execute_result"
    }
   ],
   "source": [
    "print(observations[\"agent_0\"].shape)\n",
    "observations[\"agent_0\"]"
   ]
  },
  {
   "cell_type": "code",
   "execution_count": 13,
   "metadata": {},
   "outputs": [
    {
     "data": {
      "text/plain": [
       "Discrete(5)"
      ]
     },
     "execution_count": 13,
     "metadata": {},
     "output_type": "execute_result"
    }
   ],
   "source": [
    "env.action_space(\"agent_0\")"
   ]
  },
  {
   "cell_type": "code",
   "execution_count": 33,
   "metadata": {},
   "outputs": [
    {
     "data": {
      "text/plain": [
       "({}, defaultdict(int, {}), {}, {}, {})"
      ]
     },
     "execution_count": 33,
     "metadata": {},
     "output_type": "execute_result"
    }
   ],
   "source": [
    "# this is where you would insert your policy\n",
    "# actions = {agent: env.action_space(agent).sample() for agent in env.agents}\n",
    "actions = {agent: 0 for agent in env.agents}\n",
    "observations, rewards, terminations, truncations, infos = env.step(actions)\n",
    "observations, rewards, terminations, truncations, infos"
   ]
  },
  {
   "cell_type": "markdown",
   "metadata": {},
   "source": [
    "## Adversarial Variant (Custom)"
   ]
  },
  {
   "cell_type": "markdown",
   "metadata": {},
   "source": [
    "Agent observations: `[self_is_adversary, self_vel, self_pos, landmark_rel_positions, other_agent_is_adversary_rel_positions]`\n",
    " - `self_is_adversary = (1, )`: 0 / 1 flag\n",
    " - `self_vel = (2, )`\n",
    " - `self_pos = (2, )`\n",
    " - `landmark_rel_positions = (2 * n_landmarks, )`\n",
    " - `other_agent_is_adversary_rel_positions = ((1 + 2) * (n_agents + n_adversaries - 1), )`: 0 / 1 flag  for if that other agent is an adversary + relative position for the other agent times the number of other agents\n",
    "\n",
    "Agent action space: `[no_action, move_left, move_right, move_down, move_up] = (0-4)` "
   ]
  },
  {
   "cell_type": "code",
   "execution_count": null,
   "metadata": {},
   "outputs": [],
   "source": [
    "%load_ext autoreload\n",
    "%autoreload 2\n",
    "\n",
    "import simple_spread_adversarial"
   ]
  },
  {
   "cell_type": "code",
   "execution_count": 3,
   "metadata": {},
   "outputs": [
    {
     "data": {
      "text/plain": [
       "({'adversary_0': array([ 1.        ,  0.        ,  0.        , -0.34062102, -0.77136046,\n",
       "          1.2776079 ,  1.5442173 , -0.45429146,  0.3167862 ,  1.        ,\n",
       "          0.62717503,  0.4534684 ,  0.        ,  0.89588726,  0.5511219 ,\n",
       "          0.        ,  1.1182889 ,  0.10703828], dtype=float32),\n",
       "  'adversary_1': array([ 1.        ,  0.        ,  0.        ,  0.286554  , -0.31789204,\n",
       "          0.6504329 ,  1.0907489 , -1.0814664 , -0.1366822 ,  1.        ,\n",
       "         -0.62717503, -0.4534684 ,  0.        ,  0.26871222,  0.09765349,\n",
       "          0.        ,  0.49111387, -0.34643012], dtype=float32),\n",
       "  'agent_0': array([ 0.        ,  0.        ,  0.        ,  0.5552662 , -0.22023855,\n",
       "          0.38172063,  0.9930954 , -1.3501787 , -0.23433569,  1.        ,\n",
       "         -0.89588726, -0.5511219 ,  1.        , -0.26871222, -0.09765349,\n",
       "          0.        ,  0.22240166, -0.44408363], dtype=float32),\n",
       "  'agent_1': array([ 0.        ,  0.        ,  0.        ,  0.7776679 , -0.6643222 ,\n",
       "          0.15931898,  1.4371791 , -1.5725803 ,  0.20974793,  1.        ,\n",
       "         -1.1182889 , -0.10703828,  1.        , -0.49111387,  0.34643012,\n",
       "          0.        , -0.22240166,  0.44408363], dtype=float32)},\n",
       " {'adversary_0': {}, 'adversary_1': {}, 'agent_0': {}, 'agent_1': {}})"
      ]
     },
     "execution_count": 3,
     "metadata": {},
     "output_type": "execute_result"
    }
   ],
   "source": [
    "env = simple_spread_adversarial.parallel_env(n_agents=2, n_adversaries=2, n_landmarks=2)\n",
    "observations, infos = env.reset()\n",
    "observations, infos"
   ]
  },
  {
   "cell_type": "code",
   "execution_count": 4,
   "metadata": {},
   "outputs": [
    {
     "data": {
      "text/plain": [
       "(4, ['adversary_0', 'adversary_1', 'agent_0', 'agent_1'])"
      ]
     },
     "execution_count": 4,
     "metadata": {},
     "output_type": "execute_result"
    }
   ],
   "source": [
    "env.num_agents, env.agents"
   ]
  },
  {
   "cell_type": "code",
   "execution_count": 5,
   "metadata": {},
   "outputs": [
    {
     "data": {
      "text/plain": [
       "array([ 1.        ,  0.        ,  0.        , -0.34062102, -0.77136046,\n",
       "        1.2776079 ,  1.5442173 , -0.45429146,  0.3167862 ,  1.        ,\n",
       "        0.62717503,  0.4534684 ,  0.        ,  0.89588726,  0.5511219 ,\n",
       "        0.        ,  1.1182889 ,  0.10703828,  1.        ,  0.        ,\n",
       "        0.        ,  0.286554  , -0.31789204,  0.6504329 ,  1.0907489 ,\n",
       "       -1.0814664 , -0.1366822 ,  1.        , -0.62717503, -0.4534684 ,\n",
       "        0.        ,  0.26871222,  0.09765349,  0.        ,  0.49111387,\n",
       "       -0.34643012,  0.        ,  0.        ,  0.        ,  0.5552662 ,\n",
       "       -0.22023855,  0.38172063,  0.9930954 , -1.3501787 , -0.23433569,\n",
       "        1.        , -0.89588726, -0.5511219 ,  1.        , -0.26871222,\n",
       "       -0.09765349,  0.        ,  0.22240166, -0.44408363,  0.        ,\n",
       "        0.        ,  0.        ,  0.7776679 , -0.6643222 ,  0.15931898,\n",
       "        1.4371791 , -1.5725803 ,  0.20974793,  1.        , -1.1182889 ,\n",
       "       -0.10703828,  1.        , -0.49111387,  0.34643012,  0.        ,\n",
       "       -0.22240166,  0.44408363], dtype=float32)"
      ]
     },
     "execution_count": 5,
     "metadata": {},
     "output_type": "execute_result"
    }
   ],
   "source": [
    "env.state()"
   ]
  },
  {
   "cell_type": "code",
   "execution_count": 6,
   "metadata": {},
   "outputs": [
    {
     "name": "stdout",
     "output_type": "stream",
     "text": [
      "(18,)\n"
     ]
    },
    {
     "data": {
      "text/plain": [
       "array([ 0.        ,  0.        ,  0.        ,  0.5552662 , -0.22023855,\n",
       "        0.38172063,  0.9930954 , -1.3501787 , -0.23433569,  1.        ,\n",
       "       -0.89588726, -0.5511219 ,  1.        , -0.26871222, -0.09765349,\n",
       "        0.        ,  0.22240166, -0.44408363], dtype=float32)"
      ]
     },
     "execution_count": 6,
     "metadata": {},
     "output_type": "execute_result"
    }
   ],
   "source": [
    "print(observations[\"agent_0\"].shape)\n",
    "observations[\"agent_0\"]"
   ]
  },
  {
   "cell_type": "code",
   "execution_count": 7,
   "metadata": {},
   "outputs": [
    {
     "data": {
      "text/plain": [
       "Discrete(5)"
      ]
     },
     "execution_count": 7,
     "metadata": {},
     "output_type": "execute_result"
    }
   ],
   "source": [
    "env.action_space(\"agent_0\")"
   ]
  },
  {
   "cell_type": "code",
   "execution_count": 20,
   "metadata": {},
   "outputs": [
    {
     "data": {
      "text/plain": [
       "({'adversary_0': array([ 1.        , -0.4815388 ,  0.6319574 , -1.3480055 , -0.22414342,\n",
       "          2.2849925 ,  0.9970003 ,  0.553093  , -0.23043083,  1.        ,\n",
       "          1.4915671 , -0.01874314,  0.        ,  2.4339936 ,  0.05084492,\n",
       "          0.        ,  1.6320343 ,  0.22265871], dtype=float32),\n",
       "  'adversary_1': array([ 1.        ,  0.09256034,  1.2162107 ,  0.1435616 , -0.24288656,\n",
       "          0.79342526,  1.0157434 , -0.93847406, -0.21168768,  1.        ,\n",
       "         -1.4915671 ,  0.01874314,  0.        ,  0.94242644,  0.06958806,\n",
       "          0.        ,  0.14046715,  0.24140185], dtype=float32),\n",
       "  'agent_0': array([ 0.        ,  0.3493707 ,  0.5996582 ,  1.085988  , -0.1732985 ,\n",
       "         -0.14900117,  0.94615537, -1.8809005 , -0.28127575,  1.        ,\n",
       "         -2.4339936 , -0.05084492,  1.        , -0.94242644, -0.06958806,\n",
       "          0.        , -0.8019593 ,  0.1718138 ], dtype=float32),\n",
       "  'agent_1': array([ 0.0000000e+00, -6.7715675e-01,  1.2221736e+00,  2.8402874e-01,\n",
       "         -1.4847021e-03,  6.5295810e-01,  7.7434158e-01, -1.0789412e+00,\n",
       "         -4.5308954e-01,  1.0000000e+00, -1.6320343e+00, -2.2265871e-01,\n",
       "          1.0000000e+00, -1.4046715e-01, -2.4140185e-01,  0.0000000e+00,\n",
       "          8.0195928e-01, -1.7181380e-01], dtype=float32)},\n",
       " defaultdict(int,\n",
       "             {'adversary_0': 0.0,\n",
       "              'adversary_1': 1.0,\n",
       "              'agent_0': -2.1280313929462644,\n",
       "              'agent_1': -3.1280313929462644}),\n",
       " {'adversary_0': False,\n",
       "  'adversary_1': False,\n",
       "  'agent_0': False,\n",
       "  'agent_1': False},\n",
       " {'adversary_0': False,\n",
       "  'adversary_1': False,\n",
       "  'agent_0': False,\n",
       "  'agent_1': False},\n",
       " {'adversary_0': {}, 'adversary_1': {}, 'agent_0': {}, 'agent_1': {}})"
      ]
     },
     "execution_count": 20,
     "metadata": {},
     "output_type": "execute_result"
    }
   ],
   "source": [
    "# this is where you would insert your policy\n",
    "# actions = {agent: env.action_space(agent).sample() for agent in env.agents}\n",
    "actions = {agent: env.action_space(agent).sample() for agent in env.agents}\n",
    "observations, rewards, terminations, truncations, infos = env.step(actions)\n",
    "observations, rewards, terminations, truncations, infos"
   ]
  },
  {
   "cell_type": "code",
   "execution_count": 32,
   "metadata": {},
   "outputs": [],
   "source": [
    "# Visualize full episode\n",
    "env = simple_spread_adversarial.parallel_env(\n",
    "    n_agents=2,\n",
    "    n_adversaries=2,\n",
    "    n_landmarks=3,\n",
    "    render_mode=\"human\"\n",
    ")\n",
    "observations, infos = env.reset()\n",
    "\n",
    "while env.agents:\n",
    "    # this is where you would insert your policy\n",
    "    actions = {agent: env.action_space(agent).sample() for agent in env.agents}\n",
    "\n",
    "    observations, rewards, terminations, truncations, infos = env.step(actions)\n",
    "env.close()\n"
   ]
  },
  {
   "cell_type": "code",
   "execution_count": null,
   "metadata": {},
   "outputs": [],
   "source": []
  }
 ],
 "metadata": {
  "kernelspec": {
   "display_name": "base",
   "language": "python",
   "name": "python3"
  },
  "language_info": {
   "codemirror_mode": {
    "name": "ipython",
    "version": 3
   },
   "file_extension": ".py",
   "mimetype": "text/x-python",
   "name": "python",
   "nbconvert_exporter": "python",
   "pygments_lexer": "ipython3",
   "version": "3.11.7"
  }
 },
 "nbformat": 4,
 "nbformat_minor": 2
}
